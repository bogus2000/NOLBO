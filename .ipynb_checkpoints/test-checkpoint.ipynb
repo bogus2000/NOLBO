{
 "cells": [
  {
   "cell_type": "code",
   "execution_count": 8,
   "metadata": {},
   "outputs": [],
   "source": [
    "import sys\n",
    "# make sure to use position 1\n",
    "sys.path.insert(1, \"./\")"
   ]
  },
  {
   "cell_type": "code",
   "execution_count": 9,
   "metadata": {
    "scrolled": true
   },
   "outputs": [],
   "source": [
    "import numpy as np\n",
    "import tensorflow as tf\n",
    "import cv2\n",
    "import time\n",
    "import os, pickle\n",
    "import src.module.nolbo as nolboModule\n",
    "import dataset_utils.dataset_loader.nolbo_dataset as nolboDataset"
   ]
  },
  {
   "cell_type": "code",
   "execution_count": 10,
   "metadata": {},
   "outputs": [],
   "source": [
    "nolboConfig = {\n",
    "    'inputImgDim':[416,416,3],\n",
    "    'maxPoolNum':5,\n",
    "    'predictorNumPerGrid':2,\n",
    "    'bboxDim':5,\n",
    "    'class':True, 'zClassDim':64, 'classDim':101,\n",
    "    'inst':True, 'zInstDim':64, 'instDim':1000,\n",
    "    'rot':True, 'zRotDim':3, 'rotDim':3,\n",
    "    'trainable':True,\n",
    "    'decoderStructure':{\n",
    "        'outputImgDim':[64,64,64,1],\n",
    "        'trainable':True,    \n",
    "        'filterNumList':[512,256,128,64,1],\n",
    "        'kernelSizeList':[4,4,4,4,4],\n",
    "        'stridesList':[1,2,2,2,2],\n",
    "        'activation':tf.nn.leaky_relu,\n",
    "        'lastLayerActivation':tf.nn.sigmoid\n",
    "    }\n",
    "}"
   ]
  },
  {
   "cell_type": "code",
   "execution_count": 11,
   "metadata": {},
   "outputs": [],
   "source": [
    "dataPath_Object3D = '/media/yonsei/4TB_HDD/dataset/ObjectNet3D/'\n",
    "dataPath_Pascal3D = '/media/yonsei/4TB_HDD/dataset/PASCAL3D+_release1.1/'\n",
    "dataPath_pix3D = '/media/yonsei/4TB_HDD/dataset/pix3d/'"
   ]
  },
  {
   "cell_type": "code",
   "execution_count": 12,
   "metadata": {
    "scrolled": true
   },
   "outputs": [
    {
     "name": "stdout",
     "output_type": "stream",
     "text": [
      "create dict...\n",
      "ObjectNet3D...\n",
      "pix3D...\n",
      "dict ready!\n",
      "load data path...\n",
      "done!\n",
      "data path shuffle...\n",
      "done! : 248951\n"
     ]
    }
   ],
   "source": [
    "dataset = nolboDataset.nolboDatasetSingleObject(\n",
    "    nolboConfig=nolboConfig, \n",
    "    dataPath_ObjectNet3D=dataPath_Object3D,\n",
    "    dataPath_Pascal3D=dataPath_Pascal3D,\n",
    "    dataPath_pix3D=dataPath_pix3D\n",
    ")"
   ]
  },
  {
   "cell_type": "code",
   "execution_count": 13,
   "metadata": {
    "scrolled": true
   },
   "outputs": [
    {
     "ename": "KeyboardInterrupt",
     "evalue": "",
     "output_type": "error",
     "traceback": [
      "\u001b[0;31m---------------------------------------------------------------------------\u001b[0m",
      "\u001b[0;31mKeyboardInterrupt\u001b[0m                         Traceback (most recent call last)",
      "\u001b[0;32m<ipython-input-13-7de7bb5be616>\u001b[0m in \u001b[0;36m<module>\u001b[0;34m()\u001b[0m\n\u001b[1;32m      1\u001b[0m \u001b[0mstartTime\u001b[0m \u001b[0;34m=\u001b[0m \u001b[0mtime\u001b[0m\u001b[0;34m.\u001b[0m\u001b[0mtime\u001b[0m\u001b[0;34m(\u001b[0m\u001b[0;34m)\u001b[0m\u001b[0;34m\u001b[0m\u001b[0m\n\u001b[1;32m      2\u001b[0m \u001b[0;32mfor\u001b[0m \u001b[0mi\u001b[0m \u001b[0;32min\u001b[0m \u001b[0mrange\u001b[0m\u001b[0;34m(\u001b[0m\u001b[0;36m1000\u001b[0m\u001b[0;34m)\u001b[0m\u001b[0;34m:\u001b[0m\u001b[0;34m\u001b[0m\u001b[0m\n\u001b[0;32m----> 3\u001b[0;31m     \u001b[0mbatchData\u001b[0m \u001b[0;34m=\u001b[0m \u001b[0mdataset\u001b[0m\u001b[0;34m.\u001b[0m\u001b[0mgetNextBatch\u001b[0m\u001b[0;34m(\u001b[0m\u001b[0mbatchSize\u001b[0m\u001b[0;34m=\u001b[0m\u001b[0;36m32\u001b[0m\u001b[0;34m)\u001b[0m\u001b[0;34m\u001b[0m\u001b[0m\n\u001b[0m\u001b[1;32m      4\u001b[0m     \u001b[0minputImages\u001b[0m \u001b[0;34m=\u001b[0m \u001b[0mbatchData\u001b[0m\u001b[0;34m[\u001b[0m\u001b[0;34m'inputImages'\u001b[0m\u001b[0;34m]\u001b[0m\u001b[0;34m\u001b[0m\u001b[0m\n\u001b[1;32m      5\u001b[0m     \u001b[0;32mfor\u001b[0m \u001b[0mimg\u001b[0m \u001b[0;32min\u001b[0m \u001b[0minputImages\u001b[0m\u001b[0;34m:\u001b[0m\u001b[0;34m\u001b[0m\u001b[0m\n",
      "\u001b[0;32m/home/yonsei/pyws2/NOLBO/dataset_utils/dataset_loader/nolbo_dataset.py\u001b[0m in \u001b[0;36mgetNextBatch\u001b[0;34m(self, batchSize)\u001b[0m\n\u001b[1;32m    380\u001b[0m             \u001b[0mobj3DShapePath\u001b[0m \u001b[0;34m=\u001b[0m \u001b[0mos\u001b[0m\u001b[0;34m.\u001b[0m\u001b[0mpath\u001b[0m\u001b[0;34m.\u001b[0m\u001b[0mjoin\u001b[0m\u001b[0;34m(\u001b[0m\u001b[0mdataPath\u001b[0m\u001b[0;34m,\u001b[0m \u001b[0;34m'voxel.npy'\u001b[0m\u001b[0;34m)\u001b[0m\u001b[0;34m\u001b[0m\u001b[0m\n\u001b[1;32m    381\u001b[0m             \u001b[0mobjOrg3DShapePath\u001b[0m \u001b[0;34m=\u001b[0m \u001b[0mos\u001b[0m\u001b[0;34m.\u001b[0m\u001b[0mpath\u001b[0m\u001b[0;34m.\u001b[0m\u001b[0mjoin\u001b[0m\u001b[0;34m(\u001b[0m\u001b[0mdataPath\u001b[0m\u001b[0;34m,\u001b[0m \u001b[0;34m'voxel_org.npy'\u001b[0m\u001b[0;34m)\u001b[0m\u001b[0;34m\u001b[0m\u001b[0m\n\u001b[0;32m--> 382\u001b[0;31m             \u001b[0;32mwith\u001b[0m \u001b[0mopen\u001b[0m\u001b[0;34m(\u001b[0m\u001b[0mobjInfoPath\u001b[0m\u001b[0;34m)\u001b[0m \u001b[0;32mas\u001b[0m \u001b[0mobjInfoFilePointer\u001b[0m\u001b[0;34m:\u001b[0m\u001b[0;34m\u001b[0m\u001b[0m\n\u001b[0m\u001b[1;32m    383\u001b[0m                 \u001b[0mobjInfo\u001b[0m \u001b[0;34m=\u001b[0m \u001b[0mobjInfoFilePointer\u001b[0m\u001b[0;34m.\u001b[0m\u001b[0mreadline\u001b[0m\u001b[0;34m(\u001b[0m\u001b[0;34m)\u001b[0m\u001b[0;34m\u001b[0m\u001b[0m\n\u001b[1;32m    384\u001b[0m             \u001b[0mobjClassOrg\u001b[0m\u001b[0;34m,\u001b[0m \u001b[0mimgPath\u001b[0m\u001b[0;34m,\u001b[0m \u001b[0mCADModelPath\u001b[0m\u001b[0;34m,\u001b[0m \u001b[0mcolMin\u001b[0m\u001b[0;34m,\u001b[0m \u001b[0mrowMin\u001b[0m\u001b[0;34m,\u001b[0m \u001b[0mcolMax\u001b[0m\u001b[0;34m,\u001b[0m \u001b[0mrowMax\u001b[0m\u001b[0;34m,\u001b[0m \u001b[0mazimuth\u001b[0m\u001b[0;34m,\u001b[0m \u001b[0melevation\u001b[0m\u001b[0;34m,\u001b[0m \u001b[0min_plane_rot\u001b[0m \u001b[0;34m=\u001b[0m \u001b[0mobjInfo\u001b[0m\u001b[0;34m.\u001b[0m\u001b[0msplit\u001b[0m\u001b[0;34m(\u001b[0m\u001b[0;34m\" \"\u001b[0m\u001b[0;34m)\u001b[0m\u001b[0;34m\u001b[0m\u001b[0m\n",
      "\u001b[0;31mKeyboardInterrupt\u001b[0m: "
     ]
    }
   ],
   "source": [
    "startTime = time.time()\n",
    "for i in range(1000):\n",
    "    batchData = dataset.getNextBatch(batchSize=32)\n",
    "    batchData['learningRate'] = 0.0001\n",
    "    inputImages = batchData['inputImages']\n",
    "    for img in inputImages:\n",
    "        if img.shape[-1] != 3:\n",
    "            print 'fuck'\n",
    "            cv2.imwrite('fuck.jpg', img*255.0)\n",
    "print time.time() - startTime"
   ]
  },
  {
   "cell_type": "code",
   "execution_count": 7,
   "metadata": {
    "scrolled": true
   },
   "outputs": [
    {
     "name": "stdout",
     "output_type": "stream",
     "text": [
      "['classList', 'inputImages']\n",
      "0 13\n",
      "1 4\n",
      "2 16\n",
      "3 9\n",
      "4 5\n",
      "5 8\n",
      "6 6\n",
      "7 1\n",
      "8 19\n",
      "9 14\n",
      "10 27\n",
      "11 13\n",
      "12 44\n",
      "13 31\n",
      "14 68\n",
      "15 10\n",
      "16 85\n",
      "17 13\n",
      "18 21\n",
      "19 21\n",
      "20 8\n",
      "21 13\n",
      "22 42\n",
      "23 54\n",
      "24 17\n",
      "25 18\n",
      "26 97\n",
      "27 47\n",
      "28 11\n",
      "29 34\n",
      "30 75\n",
      "31 25\n"
     ]
    }
   ],
   "source": [
    "print batchData.keys()\n",
    "inputImages = batchData['inputImages']\n",
    "# outputImages = batchData['outputImages']\n",
    "for i in range(len(inputImages)):\n",
    "    cv2.imwrite('test/'+str(i)+'.jpg', inputImages[i])\n",
    "    print i, np.argmax(batchData['classList'][i])+1\n",
    "#     np.savetxt('test/'+str(i)+'.txt', np.reshape(outputImages[i], (64*64, 64*1)))"
   ]
  },
  {
   "cell_type": "code",
   "execution_count": 10,
   "metadata": {
    "scrolled": true
   },
   "outputs": [
    {
     "name": "stdout",
     "output_type": "stream",
     "text": [
      "sofa\n",
      "model/sofa/IKEA_VRETA/model 20\n",
      "bed\n",
      "wardrobe\n",
      "desk\n",
      "model/desk/IKEA_VIKA_2/model 21\n",
      "model/desk/IKEA_VITTSJO/model 23\n",
      "bookshelf\n",
      "table\n",
      "model/table/IKEA_MALM_3/model 42\n",
      "model/table/IKEA_NORDEN_1/model 46\n",
      "model/table/IKEA_UTBY_2/model 58\n",
      "model/table/IKEA_VEJMON_1/model 59\n",
      "model/table/IKEA_VITTSJO_2/model 63\n",
      "chair\n",
      "model/chair/SS_183/model 507\n",
      "model/chair/SS_185/model 509\n",
      "model/chair/SS_112/model 518\n",
      "model/chair/SS_064/model 549\n",
      "model/chair/SS_071/model 556\n",
      "model/chair/SS_072/model 557\n",
      "model/chair/SS_073/model 558\n",
      "model/chair/SS_074/model 559\n",
      "model/chair/SS_075/model 560\n",
      "model/chair/SS_076/model 561\n"
     ]
    }
   ],
   "source": [
    "max_idx = 0\n",
    "for key in dataset._instDict_pix3D.keys():\n",
    "    print key\n",
    "    for subKey in dataset._instDict_pix3D[key].keys():\n",
    "        if max_idx<dataset._instDict_pix3D[key][subKey]:\n",
    "            max_idx = dataset._instDict_pix3D[key][subKey]\n",
    "            print subKey, dataset._instDict_pix3D[key][subKey]"
   ]
  },
  {
   "cell_type": "code",
   "execution_count": 5,
   "metadata": {},
   "outputs": [],
   "source": [
    "batchData = dataset.getNextBatch(batchSize=128, outputOrg=False)"
   ]
  },
  {
   "cell_type": "code",
   "execution_count": 6,
   "metadata": {},
   "outputs": [
    {
     "name": "stdout",
     "output_type": "stream",
     "text": [
      "['inputImages', 'instList', 'classList', 'outputImagesOrg', 'outputImages', 'EulerAngle']\n"
     ]
    }
   ],
   "source": [
    "print batchData.keys()"
   ]
  },
  {
   "cell_type": "code",
   "execution_count": 7,
   "metadata": {},
   "outputs": [
    {
     "name": "stdout",
     "output_type": "stream",
     "text": [
      "0 3 67\n",
      "1 21 11\n",
      "2 7 266\n",
      "3 24 100\n",
      "4 11 76\n",
      "5 3 24\n",
      "6 12 0\n",
      "7 7 1104\n",
      "8 27 112\n",
      "9 11 142\n",
      "10 3 23\n",
      "11 27 18\n",
      "12 3 69\n",
      "13 7 471\n",
      "14 7 1144\n",
      "15 7 945\n",
      "16 7 565\n",
      "17 7 735\n",
      "18 7 399\n",
      "19 7 943\n",
      "20 7 1175\n",
      "21 21 115\n",
      "22 6 484\n",
      "23 22 6\n",
      "24 5 298\n",
      "25 14 129\n",
      "26 8 300\n",
      "27 18 2\n",
      "28 11 143\n",
      "29 26 665\n",
      "30 25 401\n",
      "31 4 0\n",
      "32 21 99\n",
      "33 21 127\n",
      "34 7 750\n",
      "35 24 79\n",
      "36 7 479\n",
      "37 24 65\n",
      "38 17 40\n",
      "39 7 1251\n",
      "40 21 36\n",
      "41 6 88\n",
      "42 7 809\n",
      "43 21 109\n",
      "44 11 160\n",
      "45 27 13\n",
      "46 27 72\n",
      "47 24 83\n",
      "48 24 12\n",
      "49 2 360\n",
      "50 27 11\n",
      "51 9 0\n",
      "52 21 106\n",
      "53 24 104\n",
      "54 11 38\n",
      "55 7 649\n",
      "56 7 1228\n",
      "57 27 106\n",
      "58 20 518\n",
      "59 21 61\n",
      "60 22 7\n",
      "61 5 52\n",
      "62 14 268\n",
      "63 21 50\n",
      "64 24 113\n",
      "65 0 198\n",
      "66 2 283\n",
      "67 6 65\n",
      "68 7 47\n",
      "69 5 8\n",
      "70 22 6\n",
      "71 11 317\n",
      "72 7 736\n",
      "73 7 267\n",
      "74 7 89\n",
      "75 26 456\n",
      "76 8 497\n",
      "77 25 489\n",
      "78 6 653\n",
      "79 7 645\n",
      "80 24 23\n",
      "81 22 0\n",
      "82 5 86\n",
      "83 5 228\n",
      "84 3 15\n",
      "85 0 174\n",
      "86 0 189\n",
      "87 9 86\n",
      "88 21 35\n",
      "89 7 37\n",
      "90 7 1098\n",
      "91 7 924\n",
      "92 7 72\n",
      "93 6 235\n",
      "94 7 1223\n",
      "95 12 1\n",
      "96 17 120\n",
      "97 2 74\n",
      "98 21 126\n",
      "99 6 325\n",
      "100 21 34\n",
      "101 24 45\n",
      "102 27 96\n",
      "103 14 97\n",
      "104 19 154\n",
      "105 11 317\n",
      "106 22 6\n",
      "107 7 405\n",
      "108 7 641\n",
      "109 2 153\n",
      "110 2 115\n",
      "111 22 2\n",
      "112 19 420\n",
      "113 2 249\n",
      "114 27 64\n",
      "115 7 1043\n",
      "116 24 90\n",
      "117 21 126\n",
      "118 7 626\n",
      "119 2 120\n",
      "120 7 1157\n",
      "121 26 619\n",
      "122 6 295\n",
      "123 3 165\n",
      "124 28 137\n",
      "125 17 535\n",
      "126 6 444\n",
      "127 21 93\n"
     ]
    }
   ],
   "source": [
    "for i in range(len(batchData['classList'])):\n",
    "    print i, np.argmax(batchData['classList'][i]), np.argmax(batchData['instList'][i])"
   ]
  },
  {
   "cell_type": "code",
   "execution_count": 8,
   "metadata": {},
   "outputs": [],
   "source": [
    "inputImages = batchData['inputImages']\n",
    "outputImages = batchData['outputImages']\n",
    "for i in range(len(inputImages)):\n",
    "    cv2.imwrite('test/'+str(i)+'.jpg', 255.0*inputImages[i])\n",
    "    np.savetxt('test/'+str(i)+'.txt', np.reshape(outputImages[i], (64*64, 64*1)))"
   ]
  },
  {
   "cell_type": "code",
   "execution_count": 8,
   "metadata": {},
   "outputs": [
    {
     "name": "stdout",
     "output_type": "stream",
     "text": [
      "[ -17.00786972    2.9941299  -154.09063721]\n",
      "[-53.99569702 -16.27375031  26.55337715]\n",
      "[126.00431824  16.27375031 -26.55338287]\n"
     ]
    }
   ],
   "source": [
    "print batchData['EulerAngle'][64]\n",
    "print batchData['EulerAngle'][54]\n",
    "print batchData['EulerAngle'][55]"
   ]
  },
  {
   "cell_type": "code",
   "execution_count": 4,
   "metadata": {
    "scrolled": true
   },
   "outputs": [
    {
     "name": "stdout",
     "output_type": "stream",
     "text": [
      "load Dataset...\n",
      "done!\n",
      "build network...\n",
      "encoder_singleVectorOutput - nolbo-enc\n",
      "darknet19_core - nolbo-encDKCore\n",
      "(?, 416, 416, 32)\n",
      "(?, 208, 208, 32)\n",
      "(?, 208, 208, 64)\n",
      "(?, 104, 104, 64)\n",
      "(?, 104, 104, 128)\n",
      "(?, 104, 104, 64)\n",
      "(?, 104, 104, 128)\n",
      "(?, 52, 52, 128)\n",
      "(?, 52, 52, 256)\n",
      "(?, 52, 52, 128)\n",
      "(?, 52, 52, 256)\n",
      "(?, 26, 26, 256)\n",
      "(?, 26, 26, 512)\n",
      "(?, 26, 26, 256)\n",
      "(?, 26, 26, 512)\n",
      "(?, 26, 26, 256)\n",
      "(?, 26, 26, 512)\n",
      "(?, 13, 13, 512)\n",
      "(?, 13, 13, 1024)\n",
      "(?, 13, 13, 512)\n",
      "(?, 13, 13, 1024)\n",
      "(?, 13, 13, 512)\n",
      "(?, 13, 13, 1024)\n",
      "encoder_singleVectorOutput_lastLayer - nolbo-enc\n",
      "(?, 24)\n",
      "done!\n",
      "create loss and optimizer...\n",
      "done!\n"
     ]
    }
   ],
   "source": [
    "classifier = nolboModule.darknet_classifier(\n",
    "    batchSize=36, imgSize=(416,416), \n",
    "    coreLayerActivation = tf.nn.elu,\n",
    "    lastLayerActivation=tf.nn.sigmoid,\n",
    "    dataPath='./data/classifier_training_data/')"
   ]
  },
  {
   "cell_type": "code",
   "execution_count": 5,
   "metadata": {},
   "outputs": [
    {
     "name": "stdout",
     "output_type": "stream",
     "text": [
      "Epoch:0004 iter:1000 runtime:0.688 curr/total:05184/10291 loss:1.84205 accAll:0.70834 accPos:0.64582\n",
      "saveWeights...\n",
      "Epoch:0008 iter:2000 runtime:1.047 curr/total:00144/10291 loss:1.71840 accAll:0.74256 accPos:0.66239\n",
      "saveWeights...\n",
      "Epoch:0010 iter:2850 runtime:1.471 curr/total:10224/10291 loss:1.67940 accAll:0.74810 accPos:0.67132\r"
     ]
    }
   ],
   "source": [
    "classifier.train(epoch=10, weightSavePath='./weights/classifier/')"
   ]
  },
  {
   "cell_type": "code",
   "execution_count": 6,
   "metadata": {},
   "outputs": [],
   "source": [
    "classifier.saveNetworks(savePath='./weights/classifier/')   "
   ]
  },
  {
   "cell_type": "code",
   "execution_count": null,
   "metadata": {},
   "outputs": [],
   "source": []
  }
 ],
 "metadata": {
  "kernelspec": {
   "display_name": "Python 2",
   "language": "python",
   "name": "python2"
  },
  "language_info": {
   "codemirror_mode": {
    "name": "ipython",
    "version": 2
   },
   "file_extension": ".py",
   "mimetype": "text/x-python",
   "name": "python",
   "nbconvert_exporter": "python",
   "pygments_lexer": "ipython2",
   "version": "2.7.12"
  }
 },
 "nbformat": 4,
 "nbformat_minor": 1
}
