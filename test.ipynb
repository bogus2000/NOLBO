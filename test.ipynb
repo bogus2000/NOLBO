{
 "cells": [
  {
   "cell_type": "code",
   "execution_count": 1,
   "metadata": {},
   "outputs": [],
   "source": [
    "import sys\n",
    "# make sure to use position 1\n",
    "sys.path.insert(1, \"./\")"
   ]
  },
  {
   "cell_type": "code",
   "execution_count": 2,
   "metadata": {
    "scrolled": true
   },
   "outputs": [
    {
     "name": "stderr",
     "output_type": "stream",
     "text": [
      "/usr/local/lib/python2.7/dist-packages/h5py/__init__.py:36: FutureWarning: Conversion of the second argument of issubdtype from `float` to `np.floating` is deprecated. In future, it will be treated as `np.float64 == np.dtype(float).type`.\n",
      "  from ._conv import register_converters as _register_converters\n"
     ]
    }
   ],
   "source": [
    "import numpy as np\n",
    "import tensorflow as tf\n",
    "import cv2\n",
    "import time\n",
    "import os, pickle\n",
    "import src.module.nolbo as nolboModule\n",
    "import dataset_utils.dataset_loader.Imagenet_dataset as imagenetDataset\n",
    "import dataset_utils.dataset_loader.RenderforCNN_dataset as renderDataset\n",
    "import dataset_utils.dataset_loader.nolbo_dataset as nolboDataset\n",
    "import dataset_utils.dataset_loader.vae3D_dataset as vaeDataset"
   ]
  },
  {
   "cell_type": "code",
   "execution_count": 9,
   "metadata": {},
   "outputs": [
    {
     "name": "stdout",
     "output_type": "stream",
     "text": [
      "[[4 5 6]\n",
      " [1 2 3]]\n"
     ]
    }
   ],
   "source": [
    "a = []\n",
    "a.append([1,2,3])\n",
    "a.append([4,5,6])\n",
    "a = np.array(a)\n",
    "b =np.arange(2)\n",
    "np.random.shuffle(b)\n",
    "print a[b]"
   ]
  },
  {
   "cell_type": "code",
   "execution_count": 3,
   "metadata": {
    "scrolled": true
   },
   "outputs": [
    {
     "name": "stdout",
     "output_type": "stream",
     "text": [
      "load partition...\n",
      "aeroplane\n",
      "bed\n",
      "bench\n",
      "bicycle\n",
      "boat\n",
      "bookshelf\n",
      "bottle\n",
      "bus\n",
      "cabinet\n",
      "can\n",
      "cap\n",
      "car\n",
      "chair\n",
      "computer\n",
      "cup\n",
      "diningtable\n",
      "door\n",
      "fire_extinguisher\n",
      "jar\n",
      "keyboard\n",
      "laptop\n",
      "microwave\n",
      "motorbike\n",
      "mouse\n",
      "piano\n",
      "pillow\n",
      "printer\n",
      "refrigerator\n",
      "road_pole\n",
      "sofa\n",
      "speaker\n",
      "suitcase\n",
      "teapot\n",
      "toilet\n",
      "train\n",
      "trash_bin\n",
      "tub\n",
      "tvmonitor\n",
      "done!\n"
     ]
    }
   ],
   "source": [
    "dataPath = '/media/yonsei/4TB_HDD/dataset/ObjectNet3D/CAD_training_data_numpy/'\n",
    "dataset = vaeDataset.ObjectNet3D_voxelRotationDataset(\n",
    "    trainingDataPath=dataPath,\n",
    "    partitionNum=20,\n",
    "    loadVoxOrg=True\n",
    ")"
   ]
  },
  {
   "cell_type": "code",
   "execution_count": 4,
   "metadata": {},
   "outputs": [],
   "source": [
    "batchData = dataset.getNextBatch(32)"
   ]
  },
  {
   "cell_type": "code",
   "execution_count": 6,
   "metadata": {},
   "outputs": [
    {
     "name": "stdout",
     "output_type": "stream",
     "text": [
      "[[ 3.58513318  1.88584571  6.26341073]\n",
      " [ 3.68817742 -2.21861019  6.08142525]\n",
      " [ 5.5701834  -0.69725555  3.16785986]\n",
      " [ 4.3091132  -1.61026346  5.6234683 ]\n",
      " [ 1.08551975 -0.53386131  4.41976708]\n",
      " [ 4.25258199  1.46798247  5.76052901]\n",
      " [ 4.30572726 -0.25987953  4.90428793]\n",
      " [ 3.88697042  2.2677063   6.14902185]\n",
      " [ 3.68362211  3.10261945  0.15603785]\n",
      " [ 1.42309784 -1.07980205  5.2953464 ]\n",
      " [ 2.88673968  1.1927999   5.85226351]\n",
      " [ 2.75154647 -1.59949303  2.83823698]\n",
      " [ 5.76042429 -1.90172821  3.70001075]\n",
      " [ 1.60608339 -0.77676227  5.86030948]\n",
      " [ 0.70265559 -1.19941121  2.59256443]\n",
      " [ 6.07412977 -2.4842493   6.25070473]\n",
      " [ 2.8868793   2.78915832  4.91369526]\n",
      " [ 0.70263465 -1.0591356   3.05975416]\n",
      " [ 3.24683601  0.50409472  1.65036589]\n",
      " [ 3.96229883 -2.27252341  2.45979723]\n",
      " [ 0.4940329  -1.18079727  0.96679372]\n",
      " [ 5.20060993 -0.55898533  4.34454339]\n",
      " [ 3.31504347  0.77582329  1.0788491 ]\n",
      " [ 6.0393279   0.37970511  3.44700782]\n",
      " [ 3.48517817  2.38200791  0.94608539]\n",
      " [ 5.33030535 -0.25582164  2.31847793]\n",
      " [ 4.20842516 -2.68641078  5.79259071]\n",
      " [ 2.47964163  1.46351094  1.99876851]\n",
      " [ 5.77518978  0.1492178   2.89117281]\n",
      " [ 1.97236168 -0.92350083  5.84259439]\n",
      " [ 0.19635129  1.83404434  2.11500744]\n",
      " [ 3.5789198  -0.62267065  4.67807581]]\n"
     ]
    }
   ],
   "source": [
    "eulerangle = batchData['EulerAngle']\n",
    "print eulerangle/180.0*np.pi"
   ]
  },
  {
   "cell_type": "code",
   "execution_count": 3,
   "metadata": {},
   "outputs": [],
   "source": [
    "nolboConfig = {\n",
    "    'inputImgDim':[None, None, 3],\n",
    "    'maxPoolNum':5,\n",
    "    'predictorNumPerGrid':2,\n",
    "    'bboxDim':5,\n",
    "    'class':True, 'zClassDim':64, 'classDim':40,\n",
    "    'inst':True, 'zInstDim':64, 'instDim':1000,\n",
    "    'rot':True, 'zRotDim':3, 'rotDim':3,\n",
    "    'trainable':True, 'learningRate':0.0001,\n",
    "    'decoderStructure':{\n",
    "        'outputImgDim':[64,64,64,1],\n",
    "        'trainable':True,\n",
    "        'filterNumList':[512,256,128,64,1],\n",
    "        'kernelSizeList':[3,3,3,3,3],\n",
    "        'stridesList':[1,2,2,2,2],\n",
    "        'activation':tf.nn.elu,\n",
    "        'lastLayerActivation':tf.nn.sigmoid\n",
    "    }\n",
    "}"
   ]
  },
  {
   "cell_type": "code",
   "execution_count": 4,
   "metadata": {
    "scrolled": true
   },
   "outputs": [
    {
     "name": "stdout",
     "output_type": "stream",
     "text": [
      "create dict...\n",
      "ObjectNet3D...\n",
      "load data path...\n",
      "/media/yonsei/500GB_SSD/PASCAL3D+_release1.1/\n",
      "imagenet 21857/21857\n",
      "pascal 06646/06646\n",
      "/media/yonsei/500GB_SSD/ObjectNet3D/\n",
      "imagenet 90126/90126\n",
      "done!\n",
      "data path shuffle...\n",
      "done! : 238882\n"
     ]
    }
   ],
   "source": [
    "dataPath_Object3D = '/media/yonsei/500GB_SSD/ObjectNet3D/'\n",
    "dataPath_Pascal3D = '/media/yonsei/500GB_SSD/PASCAL3D+_release1.1/'\n",
    "dataPath_pix3D = 'None'\n",
    "\n",
    "dataset = nolboDataset.nolboDatasetSingleObject(\n",
    "    nolboConfig=nolboConfig,\n",
    "    mode='nolbo',\n",
    "    dataPath_ObjectNet3D=dataPath_Object3D,\n",
    "    dataPath_Pascal3D=dataPath_Pascal3D,\n",
    "    dataPath_pix3D=dataPath_pix3D,\n",
    "    loadOrg3DShape = True,\n",
    ")"
   ]
  },
  {
   "cell_type": "code",
   "execution_count": 5,
   "metadata": {},
   "outputs": [],
   "source": [
    "dataset.setInputImageSize([224, 224, 3])"
   ]
  },
  {
   "cell_type": "code",
   "execution_count": 10,
   "metadata": {},
   "outputs": [
    {
     "name": "stdout",
     "output_type": "stream",
     "text": [
      "1.85034608841\n"
     ]
    }
   ],
   "source": [
    "start = time.time()\n",
    "for i in range(10):\n",
    "    batchData = dataset.getNextBatchPar(32)\n",
    "print time.time() - start"
   ]
  },
  {
   "cell_type": "code",
   "execution_count": 11,
   "metadata": {},
   "outputs": [
    {
     "name": "stdout",
     "output_type": "stream",
     "text": [
      "5.47306489944\n"
     ]
    }
   ],
   "source": [
    "start = time.time()\n",
    "for i in range(10):\n",
    "    batchData = dataset.getNextBatch(32)\n",
    "print time.time() - start"
   ]
  },
  {
   "cell_type": "code",
   "execution_count": null,
   "metadata": {},
   "outputs": [],
   "source": [
    "a = [int(float('1.2')), int(3.1)]"
   ]
  },
  {
   "cell_type": "code",
   "execution_count": null,
   "metadata": {},
   "outputs": [],
   "source": [
    "datasetPath = '/media/yonsei/3A1FF8D034F3B6C8/RenderforCNN/'\n",
    "dataset = renderDataset.RenderforCNNDataset(dataPath=datasetPath, classNum=12, instNum=8600, rotDim=360)\n",
    "dataset.setImageSize((224, 224))"
   ]
  },
  {
   "cell_type": "code",
   "execution_count": null,
   "metadata": {},
   "outputs": [],
   "source": [
    "batchData = dataset.getNextBatchPar(batchSize=256)"
   ]
  },
  {
   "cell_type": "code",
   "execution_count": null,
   "metadata": {},
   "outputs": [],
   "source": [
    "images = batchData['inputImages']\n",
    "classList = batchData['classList']\n",
    "for i in range(len(images)):\n",
    "    cv2.imwrite('test/'+str(i)+'.jpg', images[i])\n",
    "    print i, np.argmax(classList[i])"
   ]
  },
  {
   "cell_type": "code",
   "execution_count": null,
   "metadata": {},
   "outputs": [],
   "source": [
    "a = []\n",
    "a.append([1,2,3])\n",
    "a.append(None)\n",
    "print a"
   ]
  },
  {
   "cell_type": "code",
   "execution_count": null,
   "metadata": {},
   "outputs": [],
   "source": [
    "from xml.etree.cElementTree import parse\n",
    "tree = parse(\"test.xml\")\n",
    "note = tree.getroot()"
   ]
  },
  {
   "cell_type": "code",
   "execution_count": null,
   "metadata": {},
   "outputs": [],
   "source": [
    "tree = parse(\"test.xml\")\n",
    "note = tree.getroot()\n",
    "note.find('object').find('bndbox').findtext('xmin')"
   ]
  },
  {
   "cell_type": "code",
   "execution_count": null,
   "metadata": {},
   "outputs": [],
   "source": [
    "a = '/fuck/ass/hole/'\n",
    "b = a.split('ass')\n",
    "print b"
   ]
  },
  {
   "cell_type": "code",
   "execution_count": null,
   "metadata": {},
   "outputs": [],
   "source": [
    "acc = np.array([1,2,3,4,5])\n",
    "sys.stdout.write(\"acc=c:{:.5f},i:{:.5f},a:{:.5f},e:{:.5f},ip:{:.5f}\\r\".format(acc[0],acc[1],acc[2],acc[3],acc[4]))"
   ]
  },
  {
   "cell_type": "code",
   "execution_count": 4,
   "metadata": {},
   "outputs": [
    {
     "name": "stdout",
     "output_type": "stream",
     "text": [
      "load data point path...\n",
      "done!1000\n"
     ]
    }
   ],
   "source": [
    "# datasetPath = '/media/yonsei/4TB_HDD/dataset/ImageNet/'\n",
    "datasetPath = '/media/yonsei/3A1FF8D034F3B6C8/ImageNet'\n",
    "dataset = imagenetDataset.imagenetDataset(dataPath=datasetPath, classNum=1000)\n",
    "dataset.setImageSize((224, 224))"
   ]
  },
  {
   "cell_type": "code",
   "execution_count": 8,
   "metadata": {
    "scrolled": true
   },
   "outputs": [
    {
     "name": "stdout",
     "output_type": "stream",
     "text": [
      "0.192816972733\n"
     ]
    }
   ],
   "source": [
    "start = time.time()\n",
    "for i in range(1):\n",
    "    batchData = dataset.getNextBatchPar(32)\n",
    "print time.time() - start"
   ]
  },
  {
   "cell_type": "code",
   "execution_count": 10,
   "metadata": {
    "scrolled": true
   },
   "outputs": [
    {
     "name": "stdout",
     "output_type": "stream",
     "text": [
      "0.151700019836\n"
     ]
    }
   ],
   "source": [
    "start = time.time()\n",
    "for i in range(1):\n",
    "    batchData = dataset.getNextBatch(32)\n",
    "print time.time() - start"
   ]
  },
  {
   "cell_type": "code",
   "execution_count": 12,
   "metadata": {},
   "outputs": [
    {
     "name": "stdout",
     "output_type": "stream",
     "text": [
      "['inputImages', 'classIndexList']\n"
     ]
    }
   ],
   "source": [
    "print batchData.keys()"
   ]
  },
  {
   "cell_type": "code",
   "execution_count": null,
   "metadata": {
    "scrolled": true
   },
   "outputs": [],
   "source": [
    "images = batchData['inputImages']\n",
    "classList = batchData['classIndexList']\n",
    "for i in range(len(images)):\n",
    "    cv2.imwrite('test/'+str(i)+'.jpg', images[i])\n",
    "    print i, np.argmax(classList[i])"
   ]
  },
  {
   "cell_type": "code",
   "execution_count": null,
   "metadata": {},
   "outputs": [],
   "source": [
    "nolboConfig = {\n",
    "    'inputImgDim':[416,416,3],\n",
    "    'maxPoolNum':5,\n",
    "    'predictorNumPerGrid':2,\n",
    "    'bboxDim':5,\n",
    "    'class':True, 'zClassDim':64, 'classDim':101,\n",
    "    'inst':True, 'zInstDim':64, 'instDim':1000,\n",
    "    'rot':True, 'zRotDim':3, 'rotDim':3,\n",
    "    'trainable':True,\n",
    "    'decoderStructure':{\n",
    "        'outputImgDim':[64,64,64,1],\n",
    "        'trainable':True,    \n",
    "        'filterNumList':[512,256,128,64,1],\n",
    "        'kernelSizeList':[4,4,4,4,4],\n",
    "        'stridesList':[1,2,2,2,2],\n",
    "        'activation':tf.nn.leaky_relu,\n",
    "        'lastLayerActivation':tf.nn.sigmoid\n",
    "    }\n",
    "}"
   ]
  },
  {
   "cell_type": "code",
   "execution_count": null,
   "metadata": {},
   "outputs": [],
   "source": [
    "dataPath_Object3D = '/media/yonsei/4TB_HDD/dataset/ObjectNet3D/'\n",
    "dataPath_Pascal3D = '/media/yonsei/4TB_HDD/dataset/PASCAL3D+_release1.1/'\n",
    "dataPath_pix3D = '/media/yonsei/4TB_HDD/dataset/pix3d/'"
   ]
  },
  {
   "cell_type": "code",
   "execution_count": null,
   "metadata": {
    "scrolled": true
   },
   "outputs": [],
   "source": [
    "dataset = nolboDataset.nolboDatasetSingleObject(\n",
    "    nolboConfig=nolboConfig, \n",
    "    dataPath_ObjectNet3D=dataPath_Object3D,\n",
    "    dataPath_Pascal3D=dataPath_Pascal3D,\n",
    "    dataPath_pix3D=dataPath_pix3D\n",
    ")"
   ]
  },
  {
   "cell_type": "code",
   "execution_count": null,
   "metadata": {
    "scrolled": true
   },
   "outputs": [],
   "source": [
    "startTime = time.time()\n",
    "for i in range(3):\n",
    "    batchData = dataset.getNextBatch(batchSize=32)\n",
    "    batchData['learningRate'] = 0.0001\n",
    "    inputImages = batchData['inputImages']\n",
    "    for j in range(len(inputImages)):\n",
    "        cv2.imwrite('test/'+str(i)+'_'+str(j)+'.jpg', inputImages[j])\n",
    "        print str(i)+'_'+str(j), np.argmax(batchData['classList'][j])+1\n",
    "print time.time() - startTime"
   ]
  },
  {
   "cell_type": "code",
   "execution_count": null,
   "metadata": {},
   "outputs": [],
   "source": []
  },
  {
   "cell_type": "code",
   "execution_count": null,
   "metadata": {},
   "outputs": [],
   "source": [
    "print np.argmax((1,0))"
   ]
  },
  {
   "cell_type": "code",
   "execution_count": null,
   "metadata": {
    "scrolled": true
   },
   "outputs": [],
   "source": [
    "print batchData.keys()\n",
    "inputImages = batchData['inputImages']\n",
    "# outputImages = batchData['outputImages']\n",
    "for i in range(len(inputImages)):\n",
    "    cv2.imwrite('test/'+str(i)+'.jpg', inputImages[i])\n",
    "    print i, np.argmax(batchData['classList'][i])+1\n",
    "#     np.savetxt('test/'+str(i)+'.txt', np.reshape(outputImages[i], (64*64, 64*1)))"
   ]
  },
  {
   "cell_type": "code",
   "execution_count": null,
   "metadata": {
    "scrolled": true
   },
   "outputs": [],
   "source": [
    "max_idx = 0\n",
    "for key in dataset._instDict_pix3D.keys():\n",
    "    print key\n",
    "    for subKey in dataset._instDict_pix3D[key].keys():\n",
    "        if max_idx<dataset._instDict_pix3D[key][subKey]:\n",
    "            max_idx = dataset._instDict_pix3D[key][subKey]\n",
    "            print subKey, dataset._instDict_pix3D[key][subKey]"
   ]
  },
  {
   "cell_type": "code",
   "execution_count": null,
   "metadata": {},
   "outputs": [],
   "source": [
    "batchData = dataset.getNextBatch(batchSize=128, outputOrg=False)"
   ]
  },
  {
   "cell_type": "code",
   "execution_count": null,
   "metadata": {},
   "outputs": [],
   "source": [
    "print batchData.keys()"
   ]
  },
  {
   "cell_type": "code",
   "execution_count": null,
   "metadata": {},
   "outputs": [],
   "source": [
    "for i in range(len(batchData['classList'])):\n",
    "    print i, np.argmax(batchData['classList'][i]), np.argmax(batchData['instList'][i])"
   ]
  },
  {
   "cell_type": "code",
   "execution_count": null,
   "metadata": {},
   "outputs": [],
   "source": [
    "inputImages = batchData['inputImages']\n",
    "outputImages = batchData['outputImages']\n",
    "for i in range(len(inputImages)):\n",
    "    cv2.imwrite('test/'+str(i)+'.jpg', 255.0*inputImages[i])\n",
    "    np.savetxt('test/'+str(i)+'.txt', np.reshape(outputImages[i], (64*64, 64*1)))"
   ]
  },
  {
   "cell_type": "code",
   "execution_count": null,
   "metadata": {},
   "outputs": [],
   "source": [
    "print batchData['EulerAngle'][64]\n",
    "print batchData['EulerAngle'][54]\n",
    "print batchData['EulerAngle'][55]"
   ]
  },
  {
   "cell_type": "code",
   "execution_count": null,
   "metadata": {
    "scrolled": true
   },
   "outputs": [],
   "source": [
    "classifier = nolboModule.darknet_classifier(\n",
    "    batchSize=36, imgSize=(416,416), \n",
    "    coreLayerActivation = tf.nn.elu,\n",
    "    lastLayerActivation=tf.nn.sigmoid,\n",
    "    dataPath='./data/classifier_training_data/')"
   ]
  },
  {
   "cell_type": "code",
   "execution_count": null,
   "metadata": {},
   "outputs": [],
   "source": [
    "classifier.train(epoch=10, weightSavePath='./weights/classifier/')"
   ]
  },
  {
   "cell_type": "code",
   "execution_count": null,
   "metadata": {},
   "outputs": [],
   "source": [
    "classifier.saveNetworks(savePath='./weights/classifier/')   "
   ]
  },
  {
   "cell_type": "code",
   "execution_count": null,
   "metadata": {},
   "outputs": [],
   "source": []
  }
 ],
 "metadata": {
  "kernelspec": {
   "display_name": "Python 2",
   "language": "python",
   "name": "python2"
  },
  "language_info": {
   "codemirror_mode": {
    "name": "ipython",
    "version": 2
   },
   "file_extension": ".py",
   "mimetype": "text/x-python",
   "name": "python",
   "nbconvert_exporter": "python",
   "pygments_lexer": "ipython2",
   "version": "2.7.12"
  }
 },
 "nbformat": 4,
 "nbformat_minor": 1
}
