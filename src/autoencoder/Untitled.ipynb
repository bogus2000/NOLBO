{
 "cells": [
  {
   "cell_type": "code",
   "execution_count": 1,
   "metadata": {},
   "outputs": [],
   "source": [
    "import sys\n",
    "# make sure to use position 1\n",
    "sys.path.insert(1, \"../../\")"
   ]
  },
  {
   "cell_type": "code",
   "execution_count": 2,
   "metadata": {},
   "outputs": [
    {
     "name": "stderr",
     "output_type": "stream",
     "text": [
      "/usr/local/lib/python2.7/dist-packages/h5py/__init__.py:36: FutureWarning: Conversion of the second argument of issubdtype from `float` to `np.floating` is deprecated. In future, it will be treated as `np.float64 == np.dtype(float).type`.\n",
      "  from ._conv import register_converters as _register_converters\n"
     ]
    }
   ],
   "source": [
    "import numpy as np\n",
    "import tensorflow as tf\n",
    "import random as rd\n",
    "import sys\n",
    "import time\n",
    "import os,re\n",
    "import autoencoder as ae"
   ]
  },
  {
   "cell_type": "code",
   "execution_count": 3,
   "metadata": {},
   "outputs": [],
   "source": [
    "encoderStructure = {\n",
    "    'inputImgDim':[64,64,64,1],\n",
    "    'trainable':True,\n",
    "    'activation':tf.nn.leaky_relu,\n",
    "    'filterNumList':[64,128,256,512,400],\n",
    "    'kernelSizeList':[4,4,4,4,4],\n",
    "    'stridesList':[2,2,2,2,1]\n",
    "}\n",
    "decoderStructure = {\n",
    "    'outputImgDim':[64,64,64,1],\n",
    "    'trainable':True,\n",
    "    'activation':tf.nn.leaky_relu,\n",
    "    'filterNumList':[512,256,128,64,1],\n",
    "    'kernelSizeList':[4,4,4,4,4],\n",
    "    'stridesList':[1,2,2,2,2]\n",
    "}"
   ]
  },
  {
   "cell_type": "code",
   "execution_count": 4,
   "metadata": {},
   "outputs": [
    {
     "name": "stdout",
     "output_type": "stream",
     "text": [
      "encoder...\n",
      "(10000, 64, 64, 64, 1)\n",
      "(10000, 32, 32, 32, 64)\n",
      "(10000, 16, 16, 16, 128)\n",
      "(10000, 8, 8, 8, 256)\n",
      "(10000, 4, 4, 4, 512)\n",
      "(10000, 1, 1, 1, 400)\n",
      "(10000, 400)\n",
      "decoder...\n",
      "(10000, 1600)\n",
      "(10000, 4, 4, 4, 25)\n",
      "(10000, 4, 4, 4, 512)\n",
      "(10000, 8, 8, 8, 256)\n",
      "(10000, 16, 16, 16, 128)\n",
      "(10000, 32, 32, 32, 64)\n",
      "(10000, 64, 64, 64, 1)\n"
     ]
    }
   ],
   "source": [
    "inputs = tf.zeros((10000,64,64,64,1))\n",
    "enc = ae.encoder(architecture=encoderStructure, encoderName='encoder')\n",
    "dec = ae.decoder(architecture=decoderStructure, decoderName='decoder')\n",
    "latent = enc(inputs)\n",
    "output = dec(latent)"
   ]
  },
  {
   "cell_type": "code",
   "execution_count": null,
   "metadata": {},
   "outputs": [],
   "source": []
  },
  {
   "cell_type": "code",
   "execution_count": null,
   "metadata": {},
   "outputs": [],
   "source": []
  }
 ],
 "metadata": {
  "kernelspec": {
   "display_name": "Python 2",
   "language": "python",
   "name": "python2"
  },
  "language_info": {
   "codemirror_mode": {
    "name": "ipython",
    "version": 2
   },
   "file_extension": ".py",
   "mimetype": "text/x-python",
   "name": "python",
   "nbconvert_exporter": "python",
   "pygments_lexer": "ipython2",
   "version": "2.7.12"
  }
 },
 "nbformat": 4,
 "nbformat_minor": 2
}
