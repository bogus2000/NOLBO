{
 "cells": [
  {
   "cell_type": "code",
   "execution_count": 1,
   "metadata": {},
   "outputs": [],
   "source": [
    "import sys\n",
    "# make sure to use position 1\n",
    "sys.path.insert(1, \"../../\")"
   ]
  },
  {
   "cell_type": "code",
   "execution_count": 2,
   "metadata": {},
   "outputs": [
    {
     "name": "stderr",
     "output_type": "stream",
     "text": [
      "/usr/local/lib/python2.7/dist-packages/h5py/__init__.py:36: FutureWarning: Conversion of the second argument of issubdtype from `float` to `np.floating` is deprecated. In future, it will be treated as `np.float64 == np.dtype(float).type`.\n",
      "  from ._conv import register_converters as _register_converters\n"
     ]
    }
   ],
   "source": [
    "import numpy as np\n",
    "import tensorflow as tf\n",
    "import cv2\n",
    "import time\n",
    "import os\n",
    "import src.darknet.darknet_core as darknet_core\n",
    "import src.autoencoder.autoencoder as ae"
   ]
  },
  {
   "cell_type": "code",
   "execution_count": 3,
   "metadata": {},
   "outputs": [],
   "source": [
    "decoderStructure = {\n",
    "    'outputImgDim':[64,64,64,1],\n",
    "    'trainable':True,\n",
    "    'activation':tf.nn.leaky_relu,\n",
    "    'filterNumList':[512,256,128,64,1],\n",
    "    'kernelSizeList':[4,4,4,4,4],\n",
    "    'stridesList':[1,2,2,2,2],\n",
    "    'lastLayerActivation':tf.nn.sigmoid\n",
    "}"
   ]
  },
  {
   "cell_type": "code",
   "execution_count": 4,
   "metadata": {},
   "outputs": [],
   "source": [
    "class nolbo(object):\n",
    "    def __init__(self, inputImgSize=[416,416], latentDim=None, decoderStructure=None, batchSize=32, learningRate = 0.001):\n",
    "        self._decStruct = decoderStructure\n",
    "        self._darknetCore = None\n",
    "        self._decoder = None\n",
    "        self._inputImgSize = inputImgSize\n",
    "        self._inputImages = None\n",
    "        self._zs = None\n",
    "        self._outputImages = None\n",
    "        self._outputImagesGT = None\n",
    "        self._inputImgSize = inputImgSize\n",
    "        self._batchSize = batchSize\n",
    "        self._lr = learningRate\n",
    "        self._variables = None\n",
    "        self._update_ops = None\n",
    "        self._saver = None\n",
    "        self._latentDim = latentDim\n",
    "        self._buildNetwork()\n",
    "        \n",
    "    def _buildNetwork(self):\n",
    "        print \"build network...\"\n",
    "        outputImageDim = self._decStruct['outputImgDim']\n",
    "        self._inputImages = tf.placeholder(tf.float32, shape=(np.concatenate([[None], self._inputImgSize, [1]])))\n",
    "        self._outputImages = tf.placeholder(tf.float32, shape=(np.concatenate([[None], outputImageDim])))\n",
    "        self._yolo = darknet_core.yolov2(lastLayserChannelNum=self._latentDim, nameScope='nolboEnc')\n",
    "        self._decoder = ae.decoder(architecture=self._decStruct, decoderName='nolboDec')\n",
    "        self._zs = self._yolo(self._inputImages)\n",
    "        self._outputImages = self._decoder(self._zs[:,1,1,:])\n",
    "        self._outputImages = self._decoder(self._zs[:,1,1,:])\n",
    "        zsConvVariables = tf.get_collection(tf.GraphKeys.GLOBAL_VARIABLES, scope='nolbo_zsConv')\n",
    "        zsConvUpdate_ops = tf.get_collection(tf.GraphKeys.UPDATE_OPS, scope='nolbo_zsConv')\n",
    "        self._variables = self._yolo.variables + self._decoder.variables\n",
    "        self._update_ops= self._yolo.update_ops + self._decoder.update_ops\n",
    "        self._saver = tf.train.Saver(var_list=self._variables)\n",
    "        print \"done!\""
   ]
  },
  {
   "cell_type": "code",
   "execution_count": 5,
   "metadata": {
    "scrolled": true
   },
   "outputs": [
    {
     "name": "stdout",
     "output_type": "stream",
     "text": [
      "build network...\n",
      "(?, 416, 416, 32)\n",
      "(?, 208, 208, 32)\n",
      "(?, 208, 208, 64)\n",
      "(?, 104, 104, 64)\n",
      "(?, 104, 104, 128)\n",
      "(?, 104, 104, 64)\n",
      "(?, 104, 104, 128)\n",
      "(?, 52, 52, 128)\n",
      "(?, 52, 52, 256)\n",
      "(?, 52, 52, 128)\n",
      "(?, 52, 52, 256)\n",
      "(?, 26, 26, 256)\n",
      "(?, 26, 26, 512)\n",
      "(?, 26, 26, 256)\n",
      "(?, 26, 26, 512)\n",
      "(?, 26, 26, 256)\n",
      "(?, 26, 26, 512)\n",
      "(?, 13, 13, 512)\n",
      "(?, 13, 13, 1024)\n",
      "(?, 13, 13, 512)\n",
      "(?, 13, 13, 1024)\n",
      "(?, 13, 13, 512)\n",
      "(?, 13, 13, 1024)\n",
      "(?, 13, 13, 256)\n",
      "decoder...\n",
      "(?, 1024)\n",
      "(?, 4, 4, 4, 16)\n",
      "(?, 4, 4, 4, 512)\n",
      "(?, 8, 8, 8, 256)\n",
      "(?, 16, 16, 16, 128)\n",
      "(?, 32, 32, 32, 64)\n",
      "(?, 64, 64, 64, 1)\n",
      "decoder...\n",
      "(?, 1024)\n",
      "(?, 4, 4, 4, 16)\n",
      "(?, 4, 4, 4, 512)\n",
      "(?, 8, 8, 8, 256)\n",
      "(?, 16, 16, 16, 128)\n",
      "(?, 32, 32, 32, 64)\n",
      "(?, 64, 64, 64, 1)\n",
      "done!\n"
     ]
    }
   ],
   "source": [
    "nb = nolbo(decoderStructure=decoderStructure, latentDim=256)"
   ]
  },
  {
   "cell_type": "code",
   "execution_count": null,
   "metadata": {},
   "outputs": [],
   "source": []
  }
 ],
 "metadata": {
  "kernelspec": {
   "display_name": "Python 2",
   "language": "python",
   "name": "python2"
  },
  "language_info": {
   "codemirror_mode": {
    "name": "ipython",
    "version": 2
   },
   "file_extension": ".py",
   "mimetype": "text/x-python",
   "name": "python",
   "nbconvert_exporter": "python",
   "pygments_lexer": "ipython2",
   "version": "2.7.12"
  }
 },
 "nbformat": 4,
 "nbformat_minor": 2
}
